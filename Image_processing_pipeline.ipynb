{
 "cells": [
  {
   "cell_type": "markdown",
   "metadata": {},
   "source": [
    "# Image processing pipeline"
   ]
  },
  {
   "cell_type": "code",
   "execution_count": null,
   "metadata": {},
   "outputs": [],
   "source": [
    "%matplotlib inline\n",
    "from matplotlib import pyplot as plt\n",
    "\n",
    "imgset_type = 'Y27_RhoA_ZO1'\n",
    "imgset_filename = '2017.06.17_01'\n",
    "imgset_local_path = 'Y27-ZO1/ZY6'\n",
    "\n",
    "TSCALE = 5.03 # sec per frame\n",
    "LSCALE = 0.248 # um per px"
   ]
  },
  {
   "cell_type": "code",
   "execution_count": null,
   "metadata": {
    "collapsed": true
   },
   "outputs": [],
   "source": [
    "from importlib import reload\n",
    "from warnings import warn\n",
    "\n",
    "import sys\n",
    "import os\n",
    "codebase_dir = './'\n",
    "if codebase_dir not in sys.path:\n",
    "    sys.path.append(codebase_dir)\n",
    "\n",
    "import numpy as np\n",
    "import cv2\n",
    "import imageio as iio\n",
    "import tiffcapture as tc\n",
    "from scipy.signal import savgol_filter\n",
    "\n",
    "from tqdm import tqdm\n",
    "\n",
    "working_dir = '/path/to/image/files/' + imgset_local_path\n",
    "working_dir = os.path.normpath(working_dir)\n",
    "\n",
    "if not os.path.exists(working_dir):\n",
    "    warn(\"Directory {} doesn't exist\".format(working_dir))\n",
    "\n",
    "imgset_shortname = os.path.basename(working_dir)\n",
    "\n",
    "def imgname(name='', pfx='b', ext='tif', mid='C'):\n",
    "    postfix = \"{mid}{pfx}{name}.{ext}\".format(\n",
    "        mid=mid, name=name, pfx=pfx, ext=ext)\n",
    "    return os.path.join(working_dir, imgset_shortname + postfix)\n",
    "\n",
    "main_imgfile = os.path.join(working_dir, imgset_shortname + '.tif')\n",
    "flare_data_dir = os.path.join(working_dir, '..', '_flare-data')\n",
    "flare_data_dir = os.path.normpath(flare_data_dir)\n",
    "if not os.path.exists(flare_data_dir):\n",
    "    os.makedirs(flare_data_dir)"
   ]
  },
  {
   "cell_type": "markdown",
   "metadata": {},
   "source": [
    "## A. Cell geometry"
   ]
  },
  {
   "cell_type": "code",
   "execution_count": null,
   "metadata": {
    "collapsed": true
   },
   "outputs": [],
   "source": [
    "fullimage = iio.volread(main_imgfile)\n",
    "jxn08U = np.uint16( fullimage[:,0] ) #+ fullimage[:,0] )\n",
    "T, H, W = jxn08U.shape\n",
    "# del fullimage"
   ]
  },
  {
   "cell_type": "code",
   "execution_count": null,
   "metadata": {},
   "outputs": [],
   "source": [
    "# Tailing\n",
    "jxnTail = np.zeros_like(jxn08U, dtype='uint16')\n",
    "\n",
    "halflife = 1.5 #frames\n",
    "hlcoeff = 0.5**(1.0/halflife)\n",
    "\n",
    "prev = None\n",
    "for i, dn in tqdm( enumerate( jxn08U ), total=T ):\n",
    "    if prev is None:\n",
    "          prev = np.zeros_like( dn, np.float32 )\n",
    "    prev*=hlcoeff\n",
    "    prev+=dn\n",
    "    jxnTail[i] = prev\n",
    "iio.volwrite( imgname('-1dn-tail'), jxnTail )"
   ]
  },
  {
   "cell_type": "code",
   "execution_count": null,
   "metadata": {},
   "outputs": [],
   "source": [
    "# ThreshMarking algorithm fitting\n",
    "\n",
    "import wflowtools.celldrawing as CD; reload(CD);\n",
    "import wflowtools.cv2tools as cv2t; reload(cv2t);\n",
    "\n",
    "def get_initial_labels( dn ):\n",
    "    blur = cv2.blur(dn, (3,3) )\n",
    "    thr = cv2t.otsu(blur, 0.6).astype('uint8')\n",
    "    thr = cv2.morphologyEx(thr, cv2.MORPH_DILATE, kernel=np.ones( (3,3) ), iterations=2)\n",
    "    labels, n_labels = cv2t.get_markers( 1 - thr)\n",
    "\n",
    "    n_cells = cv2t.remove_small_components(labels, n_labels, area = 30)\n",
    "    return labels\n",
    "\n",
    "# dn = tiffio.image_from_tiff_stack( imgname('-1dn-tail'), i = 2 )\n",
    "dn = jxnTail[0]\n",
    "initial_labels = get_initial_labels( dn ).astype('uint16')\n",
    "iio.imwrite(  imgname('-2lbl-0-pre-init'), initial_labels )\n",
    "plt.imshow( initial_labels, cmap=CD.cells_cmap )\n",
    "centers = CD.cell_centers( initial_labels )\n",
    "centers.pop(0)\n",
    "CD.draw_cells_labels( plt.gca(), initial_labels, centers=centers, color='white'  )"
   ]
  },
  {
   "cell_type": "code",
   "execution_count": null,
   "metadata": {},
   "outputs": [],
   "source": [
    "initial_labels = np.clip( iio.imread(  imgname('-2lbl-0-pre-init')  ),  a_min = 0, a_max=1)\n",
    "initial_labels, _ = cv2t.get_markers(initial_labels)\n",
    "iio.imwrite(  imgname('-2lbl-0-init'), initial_labels )\n",
    "centers = CD.cell_centers( initial_labels )\n",
    "centers.pop(0)\n",
    "\n",
    "dn = jxnTail[0]\n",
    "wsh = cv2t.cwatershed(dn, initial_labels) \n",
    "smooth = cv2t.smooth_labels( wsh )\n",
    "comp = CD.make_composite( smooth, wsh, dn, print_labels=True )\n",
    "plt.imshow( comp )"
   ]
  },
  {
   "cell_type": "code",
   "execution_count": null,
   "metadata": {},
   "outputs": [],
   "source": [
    "# Generate first labeled image\n",
    "\n",
    "source = jxnTail\n",
    "shape3d = source.shape\n",
    "\n",
    "out = np.empty(shape3d+(3,), dtype='uint8' )\n",
    "labels = np.empty( (shape3d[0]+1,) + shape3d[1:], dtype='uint16' )\n",
    "labels[0] = labels[-1] = smooth\n",
    "\n",
    "for t, dn in enumerate( tqdm( source ) ):\n",
    "    wsh = cv2t.cwatershed(dn, labels[t-1] ) \n",
    "    labels[t] = cv2t.smooth_labels( wsh )\n",
    "    out[t] = CD.make_composite( labels[t], wsh, dn, print_labels=True )\n",
    "\n",
    "iio.volwrite( imgname('-2lbl-1'), out )"
   ]
  },
  {
   "cell_type": "code",
   "execution_count": null,
   "metadata": {
    "code_folding": [
     14,
     29
    ],
    "scrolled": true
   },
   "outputs": [],
   "source": [
    "# Correction step\n",
    "import wflowtools.cv2tools as cv2t; reload(cv2t);\n",
    "\n",
    "comp_in_fn  = '-2lbl-2'\n",
    "comp_out_fn = '-2lbl-2'\n",
    "T_from = 0\n",
    "T_end = 600\n",
    "\n",
    "comp_in  = iio.volread( imgname(comp_in_fn) )\n",
    "jxnTail  = iio.volread( imgname('-1dn-tail'))\n",
    "source = jxnTail\n",
    "force_erode = {\n",
    "    #     8: 2,\n",
    "}\n",
    "\n",
    "def labels_change(t, force_erode, labels=None):\n",
    "    #     if t+1 == 138:\n",
    "    #         force_erode[6] = 2\n",
    "    #     if t+1 == 123:\n",
    "    #         force_erode[26] = 2\n",
    "    pass\n",
    "\n",
    "gen = zip(range(T), source, comp_in)\n",
    "# for t, img, comp in tqdm(gen, total=T):\n",
    "#     print(comp)\n",
    "# raise StopIteration()\n",
    "n_cells = np.max(labels[0])\n",
    "labels[-1] = smooth\n",
    "prev_labels = 1*smooth\n",
    "\n",
    "for t, img, comp in tqdm(gen, total=T):\n",
    "    if t == T_from:\n",
    "        n_cells = np.max(labels[t-1])\n",
    "    if t >= T_from and t<=T_end:\n",
    "        mask = cv2t.mask_from_comp( comp )\n",
    "        cur_labels = mask*labels[t-1]\n",
    "    #   labels_change(t, force_erode, cur_labels)\n",
    "\n",
    "        gmask, n_cells = cv2t.add_divided_cells(comp, cur_labels, n_cells)\n",
    "        rmask, n_cells = cv2t.add_new_cells(comp, cur_labels, n_cells)\n",
    "        \n",
    "        wsh = cv2t.cwatershed(img, cur_labels)\n",
    "        labels[t] = cv2t.smooth_labels( wsh, force_erode ).astype('uint8')\n",
    "        comp_out = CD.make_composite( labels[t], wsh, img, print_labels=True )\n",
    "        comp_out *= mask[:,:,None]\n",
    "        if rmask is not None:\n",
    "            comp_out[rmask] = [255,0,0]\n",
    "        if gmask is not None:\n",
    "            comp_out[gmask] = [0,255,0]\n",
    "        out[t] = comp_out\n",
    "    else:\n",
    "        out[t] = comp\n",
    "else:\n",
    "    iio.volwrite( imgname(comp_out_fn), out )"
   ]
  },
  {
   "cell_type": "code",
   "execution_count": null,
   "metadata": {},
   "outputs": [],
   "source": [
    "gen = zip(range(T), source, labels)\n",
    "wsh3d = np.empty(shape3d, dtype='uint16' )\n",
    "for t, img, label in tqdm(gen, total=T):\n",
    "    wsh3d[t] = cv2t.cwatershed(img, label)\n",
    "else:\n",
    "    iio.volwrite( imgname('-3wshed'), wsh3d )"
   ]
  },
  {
   "cell_type": "code",
   "execution_count": null,
   "metadata": {},
   "outputs": [],
   "source": [
    "# Active Graph Network\n",
    "import wflowtools.activegraph as AG; reload(AG);\n",
    "\n",
    "def get_ag(j, w):\n",
    "    blur = cv2.blur(j, (5,5))\n",
    "    blur = ( blur-np.min(blur) )/( np.max(blur)-np.min(blur) )\n",
    "    ag = AG.ActiveGraph( W=w, E=blur, fixed_edge_length = 50.0)\n",
    "    n = 250\n",
    "    d = 10\n",
    "    prev = 15\n",
    "    eps = 0.003\n",
    "    alpha = 0.2\n",
    "    for loop in range( int(n/d) ):\n",
    "        for i in range(d):\n",
    "            dr = ag.step( alpha = alpha )\n",
    "        a = np.max( np.sum( dr**2, axis=1) )\n",
    "        ag.redistribute()\n",
    "\n",
    "#         if prev - a < eps * alpha:\n",
    "#             break\n",
    "#         else:\n",
    "#             prev = a\n",
    "    return ag\n",
    "\n",
    "gs = []\n",
    "# jxn08U = np.uint16( iio.volread( imgname('-0-8U') ) )\n",
    "# wsh3d = np.uint8( iio.volread( imgname('-3wshed') ) )\n",
    "for wsh, jxn in tqdm( zip( wsh3d, jxn08U ), total=T ):\n",
    "    ag = get_ag( np.float64(jxn), wsh )\n",
    "    ag.set_spacing(1.0)\n",
    "    gs.append( ag )\n",
    "\n",
    "gs = np.array(gs)\n",
    "    \n",
    "# import pickle\n",
    "# with open( imgname('-agns', ext='pkl') , 'wb') as f:\n",
    "#     pickle.dump( gs, f )\n"
   ]
  },
  {
   "cell_type": "code",
   "execution_count": null,
   "metadata": {
    "collapsed": true
   },
   "outputs": [],
   "source": [
    "import pickle\n",
    "with open( imgname('-agns', ext='pkl') , 'wb') as f:\n",
    "    pickle.dump( gs, f )"
   ]
  },
  {
   "cell_type": "code",
   "execution_count": null,
   "metadata": {},
   "outputs": [],
   "source": [
    "t = 200\n",
    "ax = plt.gca()\n",
    "jxn    = jxn08U[t]\n",
    "plt.imshow(  jxn, cmap = 'summer');\n",
    "gs[t].plot(ax = ax, color='red')"
   ]
  },
  {
   "cell_type": "code",
   "execution_count": null,
   "metadata": {},
   "outputs": [],
   "source": [
    "import wflowtools.celldrawing as CD; reload(CD);\n",
    "fig = CD.init_figure(jxn08U[0], mult=1)\n",
    "writer = iio.get_writer( imgname('_junctions', mid='', pfx=''))\n",
    "\n",
    "try:\n",
    "    for jxn, wsh, ag in tqdm( zip(jxn08U, wsh3d, gs) , total=gs.size ):\n",
    "        ax = CD.get_new_axes(fig)\n",
    "        ax.imshow(jxn)\n",
    "        ag.plot(ax, color='red', linewidth=3)\n",
    "        centers = CD.cell_centers( wsh )\n",
    "        CD.draw_cells_labels(ax, wsh, centers=centers)\n",
    "        data = CD.fig2data(fig)\n",
    "        \n",
    "        writer.append_data( data )\n",
    "finally:\n",
    "    writer.close()"
   ]
  },
  {
   "cell_type": "code",
   "execution_count": null,
   "metadata": {},
   "outputs": [],
   "source": [
    "import pickle\n",
    "import wflowtools.celldrawing as CD; reload(CD);\n",
    "\n",
    "# wsh3d = iio.volread( imgname('-3wshed'))\n",
    "\n",
    "centers_arr = []\n",
    "for wsh in tqdm(wsh3d):\n",
    "    centers_arr.append( CD.cell_centers(wsh) )\n",
    "centers_arr = np.array( centers_arr )\n",
    "\n",
    "with open( imgname('-wsh-centers', ext='pkl'), 'wb' ) as f:\n",
    "    pickle.dump(centers_arr, f)\n",
    "\n",
    "# del wsh3d"
   ]
  },
  {
   "cell_type": "markdown",
   "metadata": {},
   "source": [
    "## B. Flares detection"
   ]
  },
  {
   "cell_type": "code",
   "execution_count": null,
   "metadata": {
    "collapsed": true
   },
   "outputs": [],
   "source": [
    "import scipy.ndimage as ndi\n",
    "import scipy.interpolate as intpl\n",
    "import wflowtools.activegraph as AG\n",
    "reload(AG)\n",
    "\n",
    "import pickle\n",
    "with open( imgname('-agns', ext='pkl') , 'rb') as f:\n",
    "    graphs = np.array(pickle.load( f ))\n",
    "for ag in graphs:\n",
    "    ag.__class__ = AG.ActiveGraph\n",
    "with open( imgname('-agns', ext='pkl') , 'wb') as f:\n",
    "    pickle.dump( graphs, f )\n",
    "    \n",
    "with open( imgname('-wsh-centers', ext='pkl'), 'rb' ) as f:\n",
    "    centers_arr = pickle.load(f)"
   ]
  },
  {
   "cell_type": "markdown",
   "metadata": {},
   "source": [
    "### Background + references"
   ]
  },
  {
   "cell_type": "code",
   "execution_count": null,
   "metadata": {
    "collapsed": true
   },
   "outputs": [],
   "source": [
    "fullimage = np.array( iio.volread(main_imgfile) )\n",
    "rho_raw = fullimage[:,1,:,:]\n",
    "del fullimage\n",
    "\n",
    "import wflowtools.flared_epith as FE; reload(FE)\n",
    "\n",
    "flepith = FE.FlaredEpithelium(rho_raw, graphs, tscale = TSCALE, lscale = LSCALE)\n",
    "\n",
    "## Masking    \n",
    "internal_mask3d = flepith.create_mask(\n",
    "    circles_gen=flepith._internal_circles_gen(),\n",
    "    lines_gen=flepith._all_edges_gen(),\n",
    ")"
   ]
  },
  {
   "cell_type": "code",
   "execution_count": null,
   "metadata": {
    "collapsed": true
   },
   "outputs": [],
   "source": [
    "# # remove debris shadows\n",
    "# T,H,W = rho_raw.shape\n",
    "# img = np.ones_like(rho_raw[0], 'uint8')\n",
    "# xx,yy = np.ogrid[0:H,0:W]\n",
    "# img[(yy-216)**2+(xx-  7)**2 < 20**2] = 0\n",
    "# img[(yy-298)**2+(xx-157)**2 < 15**2] = 0\n",
    "# img[(yy-474)**2+(xx- 49)**2 < 15**2] = 0\n",
    "# img[(yy-428)**2+(xx-152)**2 < 15**2] = 0\n",
    "# img[(yy-297)**2+(xx-232)**2 < 11**2] = 0\n",
    "# internal_mask3d *= img[None,:,:]"
   ]
  },
  {
   "cell_type": "code",
   "execution_count": null,
   "metadata": {
    "collapsed": true
   },
   "outputs": [],
   "source": []
  },
  {
   "cell_type": "code",
   "execution_count": null,
   "metadata": {},
   "outputs": [],
   "source": [
    "#Findning underexpressing cells\n",
    "wsh3d = np.array( iio.volread( imgname('-3wshed'))).astype('uint8')\n",
    "cell_exp_levels = dict()\n",
    "for i in range(1, wsh3d.max()+1):\n",
    "    arr = rho_raw[wsh3d == i]\n",
    "    if arr.size > 0:\n",
    "        cell_exp_levels[i] = arr.mean()\n",
    "plt.hist( list(cell_exp_levels.values()), bins=20, range=[0, 2500] );"
   ]
  },
  {
   "cell_type": "code",
   "execution_count": null,
   "metadata": {},
   "outputs": [],
   "source": [
    "expression_mask3d = internal_mask3d.copy()\n",
    "for i, expression_level in cell_exp_levels.items():\n",
    "    if expression_level < 900:\n",
    "        expression_mask3d[wsh3d == i] = 0\n",
    "flepith.normalize(expression_mask3d);"
   ]
  },
  {
   "cell_type": "code",
   "execution_count": null,
   "metadata": {},
   "outputs": [],
   "source": [
    "print( np.isnan( flepith.fdata3d ).sum(), flepith.fdata3d.min(), flepith.fdata3d.max())"
   ]
  },
  {
   "cell_type": "code",
   "execution_count": null,
   "metadata": {
    "collapsed": true
   },
   "outputs": [],
   "source": [
    "blur3d = ndi.gaussian_filter(flepith.fdata3d.astype('float'), (1,2,2)).astype('float32')"
   ]
  },
  {
   "cell_type": "code",
   "execution_count": null,
   "metadata": {
    "deletable": false,
    "editable": false,
    "run_control": {
     "frozen": true
    }
   },
   "outputs": [],
   "source": [
    "from wflowtools import arr_util as AU; reload(AU);\n",
    "iio.volwrite(imgname('-mask', pfx='a'), 255*expression_mask3d)\n",
    "AU.write_logpack(main_imgfile.split('.tif')[0]+'_blur3d', blur3d)"
   ]
  },
  {
   "cell_type": "code",
   "execution_count": null,
   "metadata": {
    "collapsed": true
   },
   "outputs": [],
   "source": [
    "import wflowtools.flare as Flare; reload(Flare);\n",
    "# for flare in flares:\n",
    "#     flare.__class__ = Flare.Flare"
   ]
  },
  {
   "cell_type": "code",
   "execution_count": null,
   "metadata": {},
   "outputs": [],
   "source": [
    "frame = 26\n",
    "thr = 2.3\n",
    "plt.imshow((blur3d[frame-1] > thr), cmap='gray')\n",
    "graphs[frame-1].plot( plt.gca() )"
   ]
  },
  {
   "cell_type": "code",
   "execution_count": null,
   "metadata": {},
   "outputs": [],
   "source": [
    "flares, labels3d = Flare.thresholded_flares(blur3d, thr)"
   ]
  },
  {
   "cell_type": "code",
   "execution_count": null,
   "metadata": {},
   "outputs": [],
   "source": [
    "for flare in tqdm(flares):\n",
    "    flare.data.category = None\n",
    "    flare.calculate_intersections(graphs)\n",
    "    flare.assign_category(graphs)\n",
    "print( \"%d good flares\" % sum(1 for f in flares if f.data.type == 'good') )"
   ]
  },
  {
   "cell_type": "code",
   "execution_count": null,
   "metadata": {
    "collapsed": true
   },
   "outputs": [],
   "source": [
    "xlsx_filename = main_imgfile.split('.tif') [0] + '-flares.xlsx'\n",
    "info = Flare.flares_info(flares)\n",
    "info.to_excel( xlsx_filename )"
   ]
  },
  {
   "cell_type": "code",
   "execution_count": null,
   "metadata": {},
   "outputs": [],
   "source": [
    "from collections import defaultdict\n",
    "color_dict_red = defaultdict(lambda: ('none', 'brown', 'brown'))\n",
    "color_dict_red['good'] = ('none', 'yellow', 'yellow')\n",
    "import wflowtools.celldrawing as CD; reload(CD);\n",
    "\n",
    "def fgen(flares, img3d, centers):\n",
    "    fig = CD.init_figure(img3d[0], mult=1)\n",
    "    shape2d = img3d.shape[1:]\n",
    "    vmin, vmax = img3d.min(), img3d.max()\n",
    "    for t, (img, cnts) in enumerate(zip(img3d, centers)):\n",
    "        ax = CD.get_new_axes(fig)\n",
    "        ax.imshow(img, cmap='gray', vmin=1.0, vmax=Flare.byte2float(255))\n",
    "        for flare in flares:\n",
    "            CD.draw_flare(ax, flare, t, shape=shape2d, color_dict=color_dict_red, labeling=True)\n",
    "        CD.draw_cells_labels(ax, wsh=img, centers=cnts, color='gray', size=15)\n",
    "        yield CD.fig2data(fig)\n",
    "\n",
    "writer = (iio.get_writer( imgname('-flares_pre', pfx='a') ))\n",
    "img_gen = fgen(flares, flepith.fdata3d.astype('float'), centers=centers_arr)\n",
    "try:\n",
    "    for data in tqdm(img_gen, total=graphs.size ):\n",
    "        writer.append_data( data )\n",
    "finally:\n",
    "    writer.close()"
   ]
  },
  {
   "cell_type": "code",
   "execution_count": null,
   "metadata": {},
   "outputs": [],
   "source": [
    "xlsx_filename = main_imgfile.split('.tif') [0] + '-flares.xlsx'\n",
    "postflares = Flare.read_flares(xlsx_filename, blur3d)\n",
    "print(len(postflares), ' flares')"
   ]
  },
  {
   "cell_type": "code",
   "execution_count": null,
   "metadata": {
    "collapsed": true
   },
   "outputs": [],
   "source": [
    "from collections import defaultdict\n",
    "from itertools import combinations \n",
    "\n",
    "def filter_repeating_flares(flares, delta = 30):\n",
    "    good_flares = defaultdict(list)\n",
    "    for flare in flares:\n",
    "        if flare.data.type == 'good':\n",
    "            good_flares[flare.data.edge_label].append(flare)\n",
    "    for arr in good_flares.values():\n",
    "        for f1, f2 in combinations(arr, 2):\n",
    "            if abs( int(f1.blob_rect[0,0]) - f2.blob_rect[0,0] ) < 30:\n",
    "                print(f1.index, f2.index)\n",
    "#                 f1.data.category = f1.data.category = '--repeating'\n",
    "#                 f1.data.type = f1.data.type = 'repeating'\n",
    "\n",
    "filter_repeating_flares(postflares)"
   ]
  },
  {
   "cell_type": "code",
   "execution_count": null,
   "metadata": {},
   "outputs": [],
   "source": [
    "print( \"%d good flares\" % sum(1 for f in postflares if f.data.type == 'good') )"
   ]
  },
  {
   "cell_type": "code",
   "execution_count": null,
   "metadata": {},
   "outputs": [],
   "source": [
    "writer =  iio.get_writer( imgname('_flares', pfx='', mid='') )\n",
    "img_gen = fgen(postflares, flepith.fdata3d.astype('float'), centers=centers_arr)\n",
    "try:\n",
    "    for data in tqdm(img_gen, total=graphs.size ):\n",
    "        writer.append_data( data )\n",
    "finally:\n",
    "    writer.close()"
   ]
  },
  {
   "cell_type": "markdown",
   "metadata": {
    "collapsed": true
   },
   "source": [
    "## C. Flare/edge geometry"
   ]
  },
  {
   "cell_type": "code",
   "execution_count": null,
   "metadata": {
    "collapsed": true
   },
   "outputs": [],
   "source": [
    "import pickle\n",
    "with open( imgname('-agns', ext='pkl') , 'rb') as f:\n",
    "    graphs = np.array(pickle.load( f ))\n",
    "    \n",
    "from wflowtools import arr_util as AU; reload(AU);\n",
    "from glob import glob\n",
    "from wflowtools import flare as Flare\n",
    "fn = glob(main_imgfile.split('.tif')[0]+'_blur3d*')[0]\n",
    "blur3d = AU.read_logpack(fn)"
   ]
  },
  {
   "cell_type": "code",
   "execution_count": null,
   "metadata": {},
   "outputs": [],
   "source": [
    "xlsx_filename = main_imgfile.split('.tif') [0] + '-flares.xlsx'\n",
    "flares = Flare.read_flares(xlsx_filename, blur3d)\n",
    "print('%d / %d flares' % (sum(1 for f in flares if f.data.type == 'good'), len(flares)))\n",
    "flares = [f for f in flares if f.data.type == 'good']\n",
    "fdict = dict( (f.index, f) for f in flares  )"
   ]
  },
  {
   "cell_type": "code",
   "execution_count": null,
   "metadata": {},
   "outputs": [],
   "source": [
    "### Setting directories\n",
    "\n",
    "flares_dir = working_dir + '/_flares-data/'\n",
    "if not os.path.isdir(flares_dir):\n",
    "    os.makedirs(flares_dir)\n",
    "    \n",
    "for f in tqdm(flares):\n",
    "    f.set_name( imgset_shortname + '-F%03d' % f.index )\n",
    "    f.set_directory( flares_dir )\n",
    "    f.add_edge_geometry(graphs, (TSCALE, LSCALE))"
   ]
  },
  {
   "cell_type": "code",
   "execution_count": null,
   "metadata": {
    "collapsed": true
   },
   "outputs": [],
   "source": [
    "import pickle\n",
    "with open(imgname('-flares-dump', pfx='', mid='', ext='pkl'), 'wb') as f:\n",
    "    pickle.dump(flares, f)"
   ]
  },
  {
   "cell_type": "markdown",
   "metadata": {},
   "source": [
    "## D. First kymograms"
   ]
  },
  {
   "cell_type": "code",
   "execution_count": null,
   "metadata": {
    "collapsed": true
   },
   "outputs": [],
   "source": [
    "import pickle\n",
    "with open( imgname('-agns', ext='pkl') , 'rb') as f:\n",
    "    graphs = np.array(pickle.load( f ))\n",
    "    \n",
    "fullimage = np.array( iio.volread(main_imgfile) )\n",
    "rho_raw = fullimage[:,1,:,:]\n",
    "zo1_raw = fullimage[:,0,:,:]\n",
    "act_raw = fullimage[:,2,:,:]\n",
    "del fullimage\n",
    "\n",
    "import wflowtools.flared_epith as FE;reload(FE);\n",
    "flepith = FE.FlaredEpithelium(rho_raw, graphs, tscale = TSCALE, lscale = LSCALE)\n",
    "mask3d = np.clip(np.array(iio.volread( imgname('-mask', pfx='a') )), a_min=0, a_max=1)\n",
    "rp = FE.RhoProcessor(rho_raw, mask3d, flepith)\n",
    "zp = FE.ZO1Processor(zo1_raw, mask3d, flepith, raw_kernel=FE.disk1x5x5)\n",
    "ap = FE.ZO1Processor(act_raw, mask3d, flepith, raw_kernel=FE.disk1x5x5)\n",
    "ap.ch = 'act'\n",
    "# mask"
   ]
  },
  {
   "cell_type": "code",
   "execution_count": null,
   "metadata": {
    "deletable": false,
    "editable": false,
    "run_control": {
     "frozen": true
    }
   },
   "outputs": [],
   "source": [
    "for flare in tqdm(flares):\n",
    "    rp.add_kymo_signal(flare)\n",
    "    zp.add_kymo_signal(flare)\n",
    "    ap.add_kymo_signal(flare)\n",
    "    FE.prepare_kymo(flare)"
   ]
  },
  {
   "cell_type": "markdown",
   "metadata": {},
   "source": [
    "## E. Add channel singal"
   ]
  },
  {
   "cell_type": "code",
   "execution_count": null,
   "metadata": {},
   "outputs": [],
   "source": [
    "def flare_step_D(flare):\n",
    "    FE.fc_from_roi(flare)\n",
    "    rp.add_flare_signal(flare)\n",
    "    zp.add_flare_signal(flare)\n",
    "    zp.add_total_signal(flare) \n",
    "    FE.align_fsdf_by_slope(flare.fsdf)\n",
    "    FE.diff_jxn_len(flare.fsdf)\n",
    "\n",
    "for flare in tqdm(good_flares):\n",
    "    try:\n",
    "        flare_step_D(flare)\n",
    "    except SyntaxError:\n",
    "        print(flare.index)"
   ]
  },
  {
   "cell_type": "code",
   "execution_count": null,
   "metadata": {
    "collapsed": true,
    "deletable": false,
    "editable": false,
    "run_control": {
     "frozen": true
    }
   },
   "outputs": [],
   "source": [
    "import pickle\n",
    "for flare in flares:\n",
    "    with open(flare.directory + flare.name + '.pkl', 'wb') as f:\n",
    "        pickle.dump(flare, f)"
   ]
  },
  {
   "cell_type": "markdown",
   "metadata": {},
   "source": [
    "## E1. Add channel singal with 5px roi"
   ]
  },
  {
   "cell_type": "code",
   "execution_count": null,
   "metadata": {
    "collapsed": true
   },
   "outputs": [],
   "source": [
    "import pickle\n",
    "with open( imgname('-agns', ext='pkl') , 'rb') as f:\n",
    "    graphs = np.array(pickle.load( f ))\n",
    "    \n",
    "fullimage = np.array( iio.volread(main_imgfile) )\n",
    "rho_raw = fullimage[:,0,:,:]\n",
    "zo1_raw = fullimage[:,1,:,:]\n",
    "del fullimage\n",
    "\n",
    "import wflowtools.flared_epith as FE;reload(FE);\n",
    "flepith = FE.FlaredEpithelium(rho_raw, graphs, tscale = TSCALE, lscale = LSCALE)\n",
    "mask3d = np.clip(np.array(iio.volread( imgname('-mask', pfx='a') )), a_min=0, a_max=1)\n",
    "rp = FE.RhoProcessor(rho_raw, mask3d, flepith, raw_kernel=FE.disk1x5x5)\n",
    "zp = FE.ZO1Processor(zo1_raw, mask3d, flepith, raw_kernel=FE.disk1x5x5)\n",
    "# mask"
   ]
  },
  {
   "cell_type": "code",
   "execution_count": null,
   "metadata": {
    "collapsed": true
   },
   "outputs": [],
   "source": [
    "import pickle\n",
    "from glob import glob\n",
    "\n",
    "flares_dir = working_dir + '/_flares-data/'\n",
    "fns = glob(flares_dir + '*.pkl')\n",
    "flares = []\n",
    "for fn in fns:\n",
    "    with open(fn, 'rb') as f:\n",
    "        flares.append( pickle.load(f) )"
   ]
  },
  {
   "cell_type": "code",
   "execution_count": null,
   "metadata": {},
   "outputs": [],
   "source": [
    "for flare in tqdm(flares):\n",
    "    rp.add_flare_signal(flare)\n",
    "    zp.add_flare_signal(flare)\n",
    "    zp.add_total_signal(flare) \n",
    "    FE.align_fsdf_by_slope(flare.fsdf)\n",
    "    FE.diff_jxn_len(flare.fsdf)\n"
   ]
  },
  {
   "cell_type": "code",
   "execution_count": null,
   "metadata": {
    "collapsed": true
   },
   "outputs": [],
   "source": [
    "flares_dir = working_dir + '/_flares-data_5px/'\n",
    "if not os.path.isdir(flares_dir):\n",
    "    os.makedirs(flares_dir)"
   ]
  },
  {
   "cell_type": "code",
   "execution_count": null,
   "metadata": {
    "collapsed": true
   },
   "outputs": [],
   "source": [
    "import pickle\n",
    "for flare in flares:\n",
    "    with open(flares_dir + flare.name + '.pkl', 'wb') as f:\n",
    "        pickle.dump(flare, f)"
   ]
  },
  {
   "cell_type": "markdown",
   "metadata": {},
   "source": [
    "## F. Aligning/pics"
   ]
  },
  {
   "cell_type": "markdown",
   "metadata": {},
   "source": [
    "### Illustrations"
   ]
  },
  {
   "cell_type": "code",
   "execution_count": null,
   "metadata": {
    "collapsed": true
   },
   "outputs": [],
   "source": [
    "from wflowtools import celldrawing as CD;\n",
    "\n",
    "# flares_dir = working_dir + '/_flares-data/'\n",
    "folder = flares_dir + 'pics/'\n",
    "if not os.path.isdir(folder):\n",
    "    os.makedirs(folder)"
   ]
  },
  {
   "cell_type": "code",
   "execution_count": null,
   "metadata": {},
   "outputs": [],
   "source": [
    "for flare in tqdm(flares):\n",
    "    CD.edge_transformation(flare, flares_dir)"
   ]
  },
  {
   "cell_type": "code",
   "execution_count": null,
   "metadata": {
    "code_folding": [
     0
    ]
   },
   "outputs": [],
   "source": [
    "def save_processed_kymo(flare):\n",
    "    plt.cla()\n",
    " \n",
    "\n",
    "    km = iio.volread( flare.data.kymo_filename )\n",
    "    ch = km[0]\n",
    "    arr = ch[ch > 0]\n",
    "    vmin0 = np.percentile(arr, q=35)\n",
    "    vmax0 = np.percentile(arr, q=99.9)\n",
    "\n",
    "    ch = km[1]\n",
    "    arr = ch[ch > 0]\n",
    "    vmin1 = np.percentile(arr, q=5)\n",
    "    vmax1 = np.percentile(arr, q=99.9)\n",
    "\n",
    "    ch1 = np.uint8(255 * np.clip(\n",
    "        (km[0] - vmin0) / (vmax0 - vmin0), a_min=0, a_max=1))\n",
    "    ch2 = np.uint8(255 * np.clip(\n",
    "        (km[1] - vmin1) / (vmax1 - vmin1), a_min=0, a_max=1))\n",
    "    img = np.array([ch1, ch2, np.zeros_like(ch2)])\n",
    "    dims, coords = FE.set_fc_path_from_roi(flare)\n",
    "\n",
    "    t_list = flare.kmdf.index.get_level_values('t').unique()\n",
    "    time = flare.fsdf.time_slope_align\n",
    "    length = dims[0] * LSCALE\n",
    "    t1,t2 = time[t_list[0]] , time[t_list[-1]]\n",
    "    l1,l2 = -length/2, length/2,\n",
    "\n",
    "    \n",
    "    plt.imshow(img.transpose(1,2,0), extent=[l1,l2, t2,t1])\n",
    "    \n",
    "    coords = coords.transpose()-0.4\n",
    "    plt.plot( coords[1]*LSCALE+l1, coords[0]/dims[1]*(t2-t1)+t1,'w')\n",
    "    plt.gca().set_aspect(2*LSCALE/TSCALE)\n",
    "    plt.ylabel('aligned time (s)')\n",
    "    plt.xlabel('length ($\\mu$m)')\n",
    "    plt.ylim(t2,t1)\n",
    "    plt.tight_layout()\n",
    "    plt.savefig(folder + 'orgkm-%s.png' % flare.name,\n",
    "               bbox_inches='tight')\n",
    "for flare in tqdm(flares):\n",
    "    save_processed_kymo(flare)\n",
    "plt.clf();"
   ]
  },
  {
   "cell_type": "code",
   "execution_count": null,
   "metadata": {
    "code_folding": [
     4
    ]
   },
   "outputs": [],
   "source": [
    "reload(CD)\n",
    "img = rho_raw[0]\n",
    "fig = CD.init_figure(img, mult=1)\n",
    "\n",
    "def save_flare_screenshot(flare, flares):\n",
    "    t = int( flare.fsdf.flare_s_min.dropna().index.values.mean()  )\n",
    "    ax = CD.get_flare_img(fig, rho_raw[t], flare, flares, t, color_dict={'good': ('pink', 'red', 'white')})\n",
    "    ax.text(0.01, 0.99,\n",
    "                   (\"t = %d\" % t), fontsize=12,\n",
    "                   transform=ax.transAxes,\n",
    "                   verticalalignment='top', horizontalalignment='left')\n",
    "    ax.set_axis_off()\n",
    "    plt.savefig(folder + 'flare-shot-%s.png' % flare.name)\n",
    "for flare in tqdm(flares):\n",
    "    save_flare_screenshot(flare, [])\n",
    "plt.clf();"
   ]
  },
  {
   "cell_type": "markdown",
   "metadata": {
    "collapsed": true
   },
   "source": [
    "### Plots and presentation"
   ]
  },
  {
   "cell_type": "code",
   "execution_count": null,
   "metadata": {
    "collapsed": true
   },
   "outputs": [],
   "source": [
    "import matplotlib\n",
    "import pptx\n",
    "from PIL import Image\n",
    "\n",
    "cm = 360000\n",
    "\n",
    "def get_defining_dimension(imgname, width, height):\n",
    "    w, h = Image.open(imgname).size\n",
    "    if( w/h > width/height ):\n",
    "        return {'width': width}\n",
    "    else:\n",
    "        return {'height': height}"
   ]
  },
  {
   "cell_type": "code",
   "execution_count": null,
   "metadata": {
    "code_folding": []
   },
   "outputs": [],
   "source": [
    "def save_flare_plot(flare):\n",
    "    plt.clf()\n",
    "    ax = plt.gca()\n",
    "    lns= []\n",
    "\n",
    "    fsdf = flare.fsdf\n",
    "    rho =  fsdf.rho_norm.dropna()\n",
    "    index = rho.index\n",
    "    time = fsdf.time_slope_align[index]\n",
    "    ax.plot( time.iloc[[0,-1]], [1,1], '--', color='grey'  )\n",
    "\n",
    "    ax.plot( time, rho, '.' , color='red', markersize=3)\n",
    "    data = savgol_filter(rho.values, 11, 3)\n",
    "    lns += ax.plot( time, data, '-', color='red', label=\"RhoA\" );\n",
    "\n",
    "    jxn = fsdf.jxn_norm[index]\n",
    "    ax.plot( time, jxn, '.' , color='green', markersize=3)\n",
    "    data = savgol_filter(jxn.values, 21, 3)\n",
    "    lns += ax.plot( time, data, '-', color='green', label=\"ZO-1\" );\n",
    "\n",
    "    tot = fsdf.jxn_total[index] / fsdf.jxn_total[index].mean()\n",
    "    ax.plot( time, tot, '.' , color='orange', markersize=3)\n",
    "    data = savgol_filter(tot.values, 21, 3)\n",
    "    lns += ax.plot( time, data, '-', color='orange', label=\"Total ZO-1\" );\n",
    "\n",
    "    ax.tick_params(axis='x', labelsize=15)\n",
    "    ax.set_xlim(time.min(), time.max())\n",
    "    ax.set_xlabel(\"aligned time (s)\", fontsize=20)\n",
    "\n",
    "    abstime = fsdf.time[index]\n",
    "    axTop = ax.twiny()\n",
    "    axTop.tick_params(axis='x', labelsize=12)\n",
    "    axTop.set_xlim(abstime.min()/60, abstime.max()/60 )\n",
    "    axTop.set_xlabel(\"absolute time (min)\", fontsize=15)\n",
    "\n",
    "    ax2 = ax.twinx()\n",
    "    length = fsdf.jxn_length_diff_um[index]\n",
    "    ax2.plot( time, length, '.', color='blue', label='_nolegend_', markersize=3)\n",
    "    data = savgol_filter(length.values, 17, 3)\n",
    "    lns += ax2.plot( time, data, '-', color='blue', label='Jxn length' )\n",
    "\n",
    "    y1 = max(1 - min(rho.min(),jxn.min(),tot.min()), -length.min()/2)\n",
    "    y2 = max(max(rho.max(),jxn.max(),tot.max()) - 1, length.max()/2)\n",
    "    ax.set_ylim(1-y1, 1+y2)\n",
    "    ax2.set_ylim(-2*y1, 2*y2)\n",
    "\n",
    "    labs = [l.get_label() for l in lns]\n",
    "    ax.legend(lns, labs, loc='upper left', fontsize=20)\n",
    "\n",
    "    ax.set_ylabel(\"Normalized intensity\", fontsize=20)\n",
    "    ax.tick_params(axis='y', labelsize=15)\n",
    "\n",
    "    ax2.set_ylabel(\"Change in length $\\mu$m\", fontsize=20)\n",
    "    ax2.spines['right'].set_color('blue')\n",
    "    ax2.yaxis.label.set_color('blue')\n",
    "    ax2.tick_params(axis='y', colors='blue', labelsize=15)\n",
    "\n",
    "    plt.savefig(folder + 'plot-%s.png' % flare.name,\n",
    "               bbox_inches='tight')\n",
    "\n",
    "for flare in tqdm(flares):\n",
    "    save_flare_plot(flare)"
   ]
  },
  {
   "cell_type": "code",
   "execution_count": null,
   "metadata": {
    "code_folding": []
   },
   "outputs": [],
   "source": [
    "def fill_slide(slide, flare):\n",
    "    tb = slide.shapes.add_textbox(\n",
    "        left=4*cm, top=0.2*cm, width=3*cm, height=1*cm\n",
    "    )\n",
    "    tf = tb.text_frame\n",
    "    tf.auto_size = True\n",
    "    tf.text = \"%s F%03d\" % (imgset_shortname, flare.index)\n",
    "    tf.paragraphs[0].font.name = 'Consolas'\n",
    "    tf.paragraphs[0].font.size = 1*cm\n",
    "    \n",
    "    tb = slide.shapes.add_textbox(\n",
    "        left=4*cm, top=0, width=3*cm, height=0.3*cm\n",
    "    )\n",
    "    tf = tb.text_frame\n",
    "    tf.auto_size = True\n",
    "    tf.text = \"%s %s\" % (imgset_type, imgset_filename)\n",
    "    tf.paragraphs[0].font.name = 'Consolas'\n",
    "    tf.paragraphs[0].font.size = 0.3*cm\n",
    "\n",
    "    tb = slide.shapes.add_textbox(\n",
    "        left=4*cm, top=1.3*cm, width=3*cm, height=0.7*cm\n",
    "    )\n",
    "    tf = tb.text_frame\n",
    "    tf.auto_size = True\n",
    "    if type(flare.data.edge_label) is tuple:\n",
    "        tf.text = \"jxn-%d-%d\" % (flare.data.edge_label)\n",
    "    else:\n",
    "        tf.text = \"/\".join([(\"jxn-%d-%d\" %  e) for e in flare.data.edge_label])\n",
    "            \n",
    "    tf.paragraphs[0].font.name = 'Consolas'\n",
    "    tf.paragraphs[0].font.size = 0.5*cm\n",
    "\n",
    "    plot = folder + 'plot-%s.png' % flare.name\n",
    "    kymo = folder + 'orgkm-%s.png' % flare.name\n",
    "    edge = folder + 'flareform-%s.png' % flare.name\n",
    "    shot = folder + 'flare-shot-%s.png' % flare.name\n",
    "    \n",
    "    dim = get_defining_dimension( kymo, width=4*cm, height=9*cm )\n",
    "    slide.shapes.add_picture(\n",
    "        kymo,\n",
    "        left =0,\n",
    "        top = 0,\n",
    "        **dim )\n",
    "    \n",
    "    dim = get_defining_dimension( edge, width=4*cm, height=6*cm )\n",
    "    slide.shapes.add_picture(\n",
    "        edge,\n",
    "        left =4*cm,\n",
    "        top = 3*cm,\n",
    "        **dim )\n",
    "\n",
    "    dim = get_defining_dimension( shot, width=4*cm, height=3*cm )\n",
    "    slide.shapes.add_picture(\n",
    "        shot,\n",
    "        left =12*cm,\n",
    "        top = 0,\n",
    "        **dim )\n",
    "\n",
    "    dim = get_defining_dimension( plot, width=8*cm, height=6*cm )\n",
    "    slide.shapes.add_picture(\n",
    "        plot,\n",
    "        left =8*cm,\n",
    "        top = 3*cm,\n",
    "        **dim )\n",
    "\n",
    "prs = pptx.Presentation()\n",
    "prs.slide_height=9*cm\n",
    "prs.slide_width=16*cm\n",
    "\n",
    "slide_layout = prs.slide_layouts[6]\n",
    "for flare in tqdm(flares):\n",
    "    slide = prs.slides.add_slide(slide_layout)\n",
    "    fill_slide(slide, flare)\n",
    "\n",
    "prs.save(flares_dir + '/%s.pptx' % imgset_shortname)"
   ]
  },
  {
   "cell_type": "markdown",
   "metadata": {
    "collapsed": true
   },
   "source": [
    "# VTK"
   ]
  },
  {
   "cell_type": "code",
   "execution_count": null,
   "metadata": {},
   "outputs": [],
   "source": [
    "import wflowtools.arr_util as AU\n",
    "import scipy.ndimage as ndi\n",
    "from evtk.hl import imageToVTK\n",
    "\n",
    "with open(\"%s/%s-properties.txt\" % (basedir, imgset_shortname) ) as f:\n",
    "    img_properties = eval( f.read() )\n",
    "spacing = (img_properties['y_delta'],img_properties['x_delta'],img_properties['t_delta'])\n",
    "\n",
    "rho = iio.volread( imgname(pfx='a') )\n",
    "rho = ndi.gaussian_filter(rho, (1, 2, 2))\n",
    "rho = np.array( rho.transpose(2, 1, 0) )\n",
    "\n",
    "rho = AU.logclip(rho)\n",
    "\n",
    "scale = 20 #sec/um\n",
    "\n",
    "imageToVTK(\"%s/%s-3d-blobs_%ds-um\" % (basedir, imgset_shortname, scale),\n",
    "        spacing = (spacing[0], spacing[1], spacing[2]/scale),\n",
    "        pointData={'rho': rho})"
   ]
  }
 ],
 "metadata": {
  "kernelspec": {
   "display_name": "Python 3",
   "language": "python",
   "name": "python3"
  },
  "language_info": {
   "codemirror_mode": {
    "name": "ipython",
    "version": 3
   },
   "file_extension": ".py",
   "mimetype": "text/x-python",
   "name": "python",
   "nbconvert_exporter": "python",
   "pygments_lexer": "ipython3",
   "version": "3.5.2"
  }
 },
 "nbformat": 4,
 "nbformat_minor": 2
}
